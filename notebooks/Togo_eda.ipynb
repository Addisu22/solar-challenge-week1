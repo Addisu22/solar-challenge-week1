{
 "cells": [
  {
   "cell_type": "markdown",
   "id": "04b2643b",
   "metadata": {},
   "source": [
    "### Installing Important Libraries for EDA"
   ]
  },
  {
   "cell_type": "code",
   "execution_count": null,
   "id": "034f49af",
   "metadata": {},
   "outputs": [],
   "source": [
    "#!pip install pandas\n",
    "#!pip install numpy\n",
    "#!pip install scipy\n",
    "#!pip install seaborn\n",
    "#!pip install plotly\n",
    "#!pip install --upgrade nbformat"
   ]
  },
  {
   "cell_type": "markdown",
   "id": "10ead388",
   "metadata": {},
   "source": [
    "### Importing Fundamental Libraries"
   ]
  },
  {
   "cell_type": "code",
   "execution_count": 6,
   "id": "53d14761",
   "metadata": {},
   "outputs": [],
   "source": [
    "import pandas as pd\n",
    "import numpy as np\n",
    "import seaborn as sns\n",
    "import matplotlib.pyplot as plt\n",
    "from scipy import stats\n",
    "from scipy.stats import zscore\n",
    "import plotly.express as px\n",
    "import warnings\n",
    "warnings.filterwarnings('ignore')\n",
    "import os"
   ]
  },
  {
   "cell_type": "code",
   "execution_count": 4,
   "id": "4236003a",
   "metadata": {},
   "outputs": [
    {
     "name": "stdout",
     "output_type": "stream",
     "text": [
      "['Benin_eda.ipynb', 'Sierraleone_eda.ipynb', 'Togo_eda.ipynb']\n"
     ]
    }
   ],
   "source": [
    "print(os.listdir())"
   ]
  },
  {
   "cell_type": "markdown",
   "id": "194bef1c",
   "metadata": {},
   "source": [
    "### Dataset Loading for Togo"
   ]
  },
  {
   "cell_type": "code",
   "execution_count": 9,
   "id": "6bd1e411",
   "metadata": {},
   "outputs": [],
   "source": [
    "#df  = pd.read_csv('data/togo-dapaong_qc.csv', parse_dates=[\"Timestamp\"])\n",
    "#df.info()"
   ]
  },
  {
   "cell_type": "markdown",
   "id": "c6677593",
   "metadata": {},
   "source": [
    "### Summary Statistics & Missing-Value Report"
   ]
  },
  {
   "cell_type": "code",
   "execution_count": null,
   "id": "336c7278",
   "metadata": {},
   "outputs": [],
   "source": [
    "# Overview of numeric columns\n",
    "print(\"The Description of the numeric columns:\")\n",
    "print(df.describe().T)"
   ]
  },
  {
   "cell_type": "markdown",
   "id": "7358b7cd",
   "metadata": {},
   "source": [
    "# Overview of all columns\n",
    "print(\"---------------------------------\")\n",
    "print(\"The Description of all columns:\")\n",
    "print(df.describe(include='all'))\n",
    "\n",
    "# Check for missing values\n",
    "print(\"----------------------------------\")\n",
    "print(\"Check for missing values:\")\n",
    "print(df.isna().sum()/len(df)*100)"
   ]
  },
  {
   "cell_type": "code",
   "execution_count": null,
   "id": "92c719da",
   "metadata": {},
   "outputs": [],
   "source": [
    "# Missing values\n",
    "null_report = df.isna().sum()\n",
    "null_report[null_report > 0]\n",
    "\n",
    "# Flagging columns with >5% nulls\n",
    "threshold = 0.05 * len(df)\n",
    "null_report[null_report > threshold]"
   ]
  },
  {
   "cell_type": "markdown",
   "id": "889bd0cd",
   "metadata": {},
   "source": [
    "### Outlier Detection & Basic Cleaning"
   ]
  },
  {
   "cell_type": "code",
   "execution_count": null,
   "id": "de7f8b85",
   "metadata": {},
   "outputs": [],
   "source": [
    "# Columns of interest\n",
    "cols = [\"GHI\", \"DNI\", \"DHI\", \"ModA\", \"ModB\", \"WS\", \"WSgust\"]\n",
    "\n",
    "# Compute Z-scores\n",
    "z_scores = df[cols].apply(zscore)\n",
    "outliers = (np.abs(z_scores) > 3).any(axis=1)\n",
    "\n",
    "# Flag outliers\n",
    "df[\"outlier_flag\"] = outliers\n",
    "print(f\"Number of outlier samples flagged: {outliers.sum()}\")"
   ]
  },
  {
   "cell_type": "code",
   "execution_count": null,
   "id": "078c2f35",
   "metadata": {},
   "outputs": [],
   "source": [
    "# Clean: drop or impute\n",
    "df_clean = df.copy()\n",
    "df_clean[cols] = df_clean[cols].fillna(df_clean[cols].median())\n",
    "df_clean = df_clean[~df_clean[\"outlier_flag\"]]"
   ]
  },
  {
   "cell_type": "markdown",
   "id": "86e55cba",
   "metadata": {},
   "source": [
    "Export Cleaned Data"
   ]
  },
  {
   "cell_type": "code",
   "execution_count": null,
   "id": "dcf318d7",
   "metadata": {},
   "outputs": [],
   "source": [
    "df_clean.to_csv(\"data/Togo_clean.csv\", index=False)\n",
    "df_clean.info()"
   ]
  },
  {
   "cell_type": "markdown",
   "id": "ba4ad72b",
   "metadata": {},
   "source": [
    "Time Series Analysis"
   ]
  },
  {
   "cell_type": "code",
   "execution_count": null,
   "id": "07d44d0d",
   "metadata": {},
   "outputs": [],
   "source": [
    "# Line plots\n",
    "plt.figure(figsize=(12, 5))\n",
    "df_clean.set_index(\"Timestamp\")[[\"GHI\", \"DNI\", \"DHI\", \"Tamb\"]].plot(subplots=True)\n",
    "plt.suptitle(\"Time Series of Solar and Temperature Metrics\")\n",
    "plt.show()"
   ]
  },
  {
   "cell_type": "markdown",
   "id": "85c9e3d4",
   "metadata": {},
   "source": [
    "Cleaning Impact\n",
    "\n",
    "Group by Cleaning flag and plot average ModA & ModB pre/post-clean"
   ]
  },
  {
   "cell_type": "code",
   "execution_count": null,
   "id": "6a18be49",
   "metadata": {},
   "outputs": [],
   "source": [
    "# Compare ModA/ModB before and after cleaning\n",
    "df[\"cleaning_flag\"] = np.where(df[\"outlier_flag\"], \"Outlier\", \"Clean\")\n",
    "df.groupby(\"cleaning_flag\")[[\"ModA\", \"ModB\"]].mean().plot(kind=\"bar\")\n",
    "plt.title(\"ModA & ModB Before/After Cleaning\")\n",
    "plt.show()"
   ]
  },
  {
   "cell_type": "markdown",
   "id": "5b6fc658",
   "metadata": {},
   "source": [
    "Correlation & Relationship Analysis\n",
    "\n",
    "\n",
    "Heatmap Correlation"
   ]
  },
  {
   "cell_type": "code",
   "execution_count": null,
   "id": "59983530",
   "metadata": {},
   "outputs": [],
   "source": [
    "cor_cols = [\"GHI\", \"DNI\", \"DHI\", \"TModA\", \"TModB\"]\n",
    "\n",
    "# Compute correlations\n",
    "corr = df[cor_cols].corr()\n",
    "\n",
    "# Visualize\n",
    "sns.heatmap(corr, annot=True, cmap=\"coolwarm\", square=True)\n",
    "plt.title(\"Correlation Matrix of Benin Solar Energy\")\n",
    "plt.show()"
   ]
  },
  {
   "cell_type": "code",
   "execution_count": null,
   "id": "3aa12a21",
   "metadata": {},
   "outputs": [],
   "source": [
    "sns.scatterplot(x=\"WS\", y=\"GHI\", data=df_clean)\n",
    "plt.title(\"Wind Speed vs. GHI\")\n",
    "plt.show()\n",
    "\n",
    "sns.scatterplot(x=\"RH\", y=\"Tamb\", data=df_clean)\n",
    "plt.title(\"Relative Humidity vs. Ambient Temperature\")\n",
    "plt.show()"
   ]
  },
  {
   "cell_type": "markdown",
   "id": "ae910eda",
   "metadata": {},
   "source": [
    "Wind & Distribution Analysis"
   ]
  },
  {
   "cell_type": "code",
   "execution_count": null,
   "id": "f3449fa2",
   "metadata": {},
   "outputs": [],
   "source": [
    "df_clean[\"WD_bin\"] = pd.cut(df_clean[\"WD\"], bins=12)\n",
    "wind_counts = df_clean.groupby(\"WD_bin\")[\"WS\"].mean()\n",
    "\n",
    "wind_counts.plot(kind=\"bar\", title=\"Average Wind Speed per Direction Bin\")\n",
    "plt.ylabel(\"Average Wind Speed\")\n",
    "plt.show()\n",
    "\n",
    "df_clean[\"GHI\"].plot(kind=\"hist\", bins=30, alpha=0.7)\n",
    "plt.title(\"Distribution of GHI\")\n",
    "plt.xlabel(\"GHI\")\n",
    "plt.show()"
   ]
  },
  {
   "cell_type": "markdown",
   "id": "bb954de5",
   "metadata": {},
   "source": [
    "Temperature Analysis"
   ]
  },
  {
   "cell_type": "code",
   "execution_count": null,
   "id": "0d80cdf9",
   "metadata": {},
   "outputs": [],
   "source": [
    "sns.scatterplot(x=\"RH\", y=\"Tamb\", data=df_clean)\n",
    "plt.title(\"RH vs. Temperature\")\n",
    "plt.show()\n",
    "\n",
    "sns.scatterplot(x=\"RH\", y=\"GHI\", data=df_clean)\n",
    "plt.title(\"RH vs. GHI\")\n",
    "plt.show()"
   ]
  },
  {
   "cell_type": "markdown",
   "id": "df5cdbf6",
   "metadata": {},
   "source": [
    "Bubble Chart\n",
    "\n",
    "GHI vs. Tamb with bubble size = RH or BP"
   ]
  },
  {
   "cell_type": "code",
   "execution_count": null,
   "id": "7e5e0ec0",
   "metadata": {},
   "outputs": [],
   "source": [
    "fig = px.scatter(df_clean, x=\"GHI\", y=\"Tamb\", size=\"RH\", color=\"RH\",\n",
    "                 title=\"GHI vs. Tamb (Bubble Size = RH)\", size_max=30)\n",
    "#fig.show()"
   ]
  }
 ],
 "metadata": {
  "kernelspec": {
   "display_name": ".venv",
   "language": "python",
   "name": "python3"
  },
  "language_info": {
   "codemirror_mode": {
    "name": "ipython",
    "version": 3
   },
   "file_extension": ".py",
   "mimetype": "text/x-python",
   "name": "python",
   "nbconvert_exporter": "python",
   "pygments_lexer": "ipython3",
   "version": "3.13.3"
  }
 },
 "nbformat": 4,
 "nbformat_minor": 5
}
